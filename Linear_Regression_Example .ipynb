{
 "cells": [
  {
   "cell_type": "code",
   "execution_count": 1,
   "id": "5c3743f1",
   "metadata": {},
   "outputs": [],
   "source": [
    "# STEP-1\n",
    "# import librasries\n",
    "\n",
    "import numpy as np  # use in array and n dimensioal arrya\n",
    "import pandas as pd # use excel type file like csv\n",
    "import matplotlib.pyplot as plt # draw graphical data\n",
    "from sklearn.model_selection import train_test_split # this is main l\n",
    "from sklearn.linear_model import LinearRegression  # import LinearRegression Model with help of sklearn.linear_model\n",
    "from sklearn.metrics import  mean_squared_error,mean_absolute_error,r2_score\n"
   ]
  },
  {
   "cell_type": "code",
   "execution_count": 2,
   "id": "d35f6342",
   "metadata": {},
   "outputs": [
    {
     "data": {
      "text/html": [
       "<div>\n",
       "<style scoped>\n",
       "    .dataframe tbody tr th:only-of-type {\n",
       "        vertical-align: middle;\n",
       "    }\n",
       "\n",
       "    .dataframe tbody tr th {\n",
       "        vertical-align: top;\n",
       "    }\n",
       "\n",
       "    .dataframe thead th {\n",
       "        text-align: right;\n",
       "    }\n",
       "</style>\n",
       "<table border=\"1\" class=\"dataframe\">\n",
       "  <thead>\n",
       "    <tr style=\"text-align: right;\">\n",
       "      <th></th>\n",
       "      <th>id</th>\n",
       "      <th>Sem-1</th>\n",
       "      <th>Sem-2</th>\n",
       "      <th>Sem-3</th>\n",
       "      <th>Sem-4</th>\n",
       "      <th>Sem-5</th>\n",
       "      <th>Sem-6</th>\n",
       "      <th>Sem-7</th>\n",
       "      <th>Final Sem</th>\n",
       "    </tr>\n",
       "  </thead>\n",
       "  <tbody>\n",
       "    <tr>\n",
       "      <th>0</th>\n",
       "      <td>111</td>\n",
       "      <td>25</td>\n",
       "      <td>45</td>\n",
       "      <td>56</td>\n",
       "      <td>58</td>\n",
       "      <td>59</td>\n",
       "      <td>85</td>\n",
       "      <td>59</td>\n",
       "      <td>85</td>\n",
       "    </tr>\n",
       "    <tr>\n",
       "      <th>1</th>\n",
       "      <td>112</td>\n",
       "      <td>52</td>\n",
       "      <td>56</td>\n",
       "      <td>25</td>\n",
       "      <td>96</td>\n",
       "      <td>58</td>\n",
       "      <td>45</td>\n",
       "      <td>85</td>\n",
       "      <td>69</td>\n",
       "    </tr>\n",
       "    <tr>\n",
       "      <th>2</th>\n",
       "      <td>113</td>\n",
       "      <td>33</td>\n",
       "      <td>12</td>\n",
       "      <td>25</td>\n",
       "      <td>74</td>\n",
       "      <td>89</td>\n",
       "      <td>47</td>\n",
       "      <td>58</td>\n",
       "      <td>58</td>\n",
       "    </tr>\n",
       "    <tr>\n",
       "      <th>3</th>\n",
       "      <td>114</td>\n",
       "      <td>89</td>\n",
       "      <td>56</td>\n",
       "      <td>58</td>\n",
       "      <td>98</td>\n",
       "      <td>56</td>\n",
       "      <td>98</td>\n",
       "      <td>56</td>\n",
       "      <td>45</td>\n",
       "    </tr>\n",
       "    <tr>\n",
       "      <th>4</th>\n",
       "      <td>115</td>\n",
       "      <td>52</td>\n",
       "      <td>96</td>\n",
       "      <td>63</td>\n",
       "      <td>82</td>\n",
       "      <td>47</td>\n",
       "      <td>85</td>\n",
       "      <td>59</td>\n",
       "      <td>85</td>\n",
       "    </tr>\n",
       "  </tbody>\n",
       "</table>\n",
       "</div>"
      ],
      "text/plain": [
       "    id  Sem-1  Sem-2  Sem-3  Sem-4  Sem-5  Sem-6  Sem-7  Final Sem\n",
       "0  111     25     45     56     58     59     85     59         85\n",
       "1  112     52     56     25     96     58     45     85         69\n",
       "2  113     33     12     25     74     89     47     58         58\n",
       "3  114     89     56     58     98     56     98     56         45\n",
       "4  115     52     96     63     82     47     85     59         85"
      ]
     },
     "execution_count": 2,
     "metadata": {},
     "output_type": "execute_result"
    }
   ],
   "source": [
    "# STEP_2\n",
    "# Create Excel Sheet And Import\n",
    "data = pd.read_csv(r'E:/Jay Vyas/Book(Sheet1).csv')\n",
    "data.head()\n"
   ]
  },
  {
   "cell_type": "code",
   "execution_count": 3,
   "id": "c022470a",
   "metadata": {},
   "outputs": [
    {
     "name": "stdout",
     "output_type": "stream",
     "text": [
      "      id  Sem-1  Sem-2  Sem-3  Sem-4  Sem-5  Sem-6  Sem-7\n",
      "0    111     25     45     56     58     59     85     59\n",
      "1    112     52     56     25     96     58     45     85\n",
      "2    113     33     12     25     74     89     47     58\n",
      "3    114     89     56     58     98     56     98     56\n",
      "4    115     52     96     63     82     47     85     59\n",
      "..   ...    ...    ...    ...    ...    ...    ...    ...\n",
      "96   207     56     89     98     89     78     72     75\n",
      "97   208     25     45     56     58     59     85     59\n",
      "98   209     52     56     25     96     58     45     85\n",
      "99   210     33     12     25     74     89     47     58\n",
      "100  211     52     51     59     56     54     53     58\n",
      "\n",
      "[101 rows x 8 columns]\n"
     ]
    }
   ],
   "source": [
    "# This is An Last Line Has  Been Droped \n",
    "# Data Last Line Drop\n",
    "# data.drop\n",
    "x= data.drop(\"Final Sem\",axis=1)\n",
    "print(x)"
   ]
  },
  {
   "cell_type": "code",
   "execution_count": 4,
   "id": "bc258a90",
   "metadata": {},
   "outputs": [
    {
     "name": "stdout",
     "output_type": "stream",
     "text": [
      "0      85\n",
      "1      69\n",
      "2      58\n",
      "3      45\n",
      "4      85\n",
      "       ..\n",
      "96     74\n",
      "97     85\n",
      "98     69\n",
      "99     58\n",
      "100    57\n",
      "Name: Final Sem, Length: 101, dtype: int64\n"
     ]
    }
   ],
   "source": [
    "# Print Final Sem They Have Been \n",
    "Y = data[\"Final Sem\"]\n",
    "print(Y)"
   ]
  },
  {
   "cell_type": "code",
   "execution_count": 5,
   "id": "0ddfef36",
   "metadata": {},
   "outputs": [
    {
     "name": "stdout",
     "output_type": "stream",
     "text": [
      "(70, 8)\n",
      "(31, 8)\n",
      "(70,)\n",
      "(31,)\n",
      "     id  Sem-1  Sem-2  Sem-3  Sem-4  Sem-5  Sem-6  Sem-7\n",
      "1   112     52     56     25     96     58     45     85\n",
      "18  129     63     62     64     65     68     69     63\n",
      "88  199     56     52     51     55     58     56     59\n",
      "36  147     66     55     44     88     99     53     45\n",
      "73  184     89     56     58     98     56     98     56\n",
      "..  ...    ...    ...    ...    ...    ...    ...    ...\n",
      "43  154     33     12     25     74     89     47     58\n",
      "22  133     52     56     25     96     58     45     85\n",
      "72  183     33     12     25     74     89     47     58\n",
      "15  126     66     55     44     88     99     53     45\n",
      "40  151     56     89     98     89     78     72     75\n",
      "\n",
      "[70 rows x 8 columns]\n"
     ]
    }
   ],
   "source": [
    "# They Have BEEN Created shaped with x and y train\n",
    "\n",
    "x_train,x_test,Y_train,Y_test = train_test_split(x,Y,test_size = 0.3,random_state = 2)\n",
    "print(x_train.shape)\n",
    "\n",
    "print(x_test.shape)\n",
    "print(Y_train.shape)\n",
    "print(Y_test.shape)\n",
    "print(x_train)"
   ]
  },
  {
   "cell_type": "code",
   "execution_count": 6,
   "id": "c5881bdc",
   "metadata": {},
   "outputs": [
    {
     "data": {
      "text/html": [
       "<style>#sk-container-id-1 {color: black;}#sk-container-id-1 pre{padding: 0;}#sk-container-id-1 div.sk-toggleable {background-color: white;}#sk-container-id-1 label.sk-toggleable__label {cursor: pointer;display: block;width: 100%;margin-bottom: 0;padding: 0.3em;box-sizing: border-box;text-align: center;}#sk-container-id-1 label.sk-toggleable__label-arrow:before {content: \"▸\";float: left;margin-right: 0.25em;color: #696969;}#sk-container-id-1 label.sk-toggleable__label-arrow:hover:before {color: black;}#sk-container-id-1 div.sk-estimator:hover label.sk-toggleable__label-arrow:before {color: black;}#sk-container-id-1 div.sk-toggleable__content {max-height: 0;max-width: 0;overflow: hidden;text-align: left;background-color: #f0f8ff;}#sk-container-id-1 div.sk-toggleable__content pre {margin: 0.2em;color: black;border-radius: 0.25em;background-color: #f0f8ff;}#sk-container-id-1 input.sk-toggleable__control:checked~div.sk-toggleable__content {max-height: 200px;max-width: 100%;overflow: auto;}#sk-container-id-1 input.sk-toggleable__control:checked~label.sk-toggleable__label-arrow:before {content: \"▾\";}#sk-container-id-1 div.sk-estimator input.sk-toggleable__control:checked~label.sk-toggleable__label {background-color: #d4ebff;}#sk-container-id-1 div.sk-label input.sk-toggleable__control:checked~label.sk-toggleable__label {background-color: #d4ebff;}#sk-container-id-1 input.sk-hidden--visually {border: 0;clip: rect(1px 1px 1px 1px);clip: rect(1px, 1px, 1px, 1px);height: 1px;margin: -1px;overflow: hidden;padding: 0;position: absolute;width: 1px;}#sk-container-id-1 div.sk-estimator {font-family: monospace;background-color: #f0f8ff;border: 1px dotted black;border-radius: 0.25em;box-sizing: border-box;margin-bottom: 0.5em;}#sk-container-id-1 div.sk-estimator:hover {background-color: #d4ebff;}#sk-container-id-1 div.sk-parallel-item::after {content: \"\";width: 100%;border-bottom: 1px solid gray;flex-grow: 1;}#sk-container-id-1 div.sk-label:hover label.sk-toggleable__label {background-color: #d4ebff;}#sk-container-id-1 div.sk-serial::before {content: \"\";position: absolute;border-left: 1px solid gray;box-sizing: border-box;top: 0;bottom: 0;left: 50%;z-index: 0;}#sk-container-id-1 div.sk-serial {display: flex;flex-direction: column;align-items: center;background-color: white;padding-right: 0.2em;padding-left: 0.2em;position: relative;}#sk-container-id-1 div.sk-item {position: relative;z-index: 1;}#sk-container-id-1 div.sk-parallel {display: flex;align-items: stretch;justify-content: center;background-color: white;position: relative;}#sk-container-id-1 div.sk-item::before, #sk-container-id-1 div.sk-parallel-item::before {content: \"\";position: absolute;border-left: 1px solid gray;box-sizing: border-box;top: 0;bottom: 0;left: 50%;z-index: -1;}#sk-container-id-1 div.sk-parallel-item {display: flex;flex-direction: column;z-index: 1;position: relative;background-color: white;}#sk-container-id-1 div.sk-parallel-item:first-child::after {align-self: flex-end;width: 50%;}#sk-container-id-1 div.sk-parallel-item:last-child::after {align-self: flex-start;width: 50%;}#sk-container-id-1 div.sk-parallel-item:only-child::after {width: 0;}#sk-container-id-1 div.sk-dashed-wrapped {border: 1px dashed gray;margin: 0 0.4em 0.5em 0.4em;box-sizing: border-box;padding-bottom: 0.4em;background-color: white;}#sk-container-id-1 div.sk-label label {font-family: monospace;font-weight: bold;display: inline-block;line-height: 1.2em;}#sk-container-id-1 div.sk-label-container {text-align: center;}#sk-container-id-1 div.sk-container {/* jupyter's `normalize.less` sets `[hidden] { display: none; }` but bootstrap.min.css set `[hidden] { display: none !important; }` so we also need the `!important` here to be able to override the default hidden behavior on the sphinx rendered scikit-learn.org. See: https://github.com/scikit-learn/scikit-learn/issues/21755 */display: inline-block !important;position: relative;}#sk-container-id-1 div.sk-text-repr-fallback {display: none;}</style><div id=\"sk-container-id-1\" class=\"sk-top-container\"><div class=\"sk-text-repr-fallback\"><pre>LinearRegression()</pre><b>In a Jupyter environment, please rerun this cell to show the HTML representation or trust the notebook. <br />On GitHub, the HTML representation is unable to render, please try loading this page with nbviewer.org.</b></div><div class=\"sk-container\" hidden><div class=\"sk-item\"><div class=\"sk-estimator sk-toggleable\"><input class=\"sk-toggleable__control sk-hidden--visually\" id=\"sk-estimator-id-1\" type=\"checkbox\" checked><label for=\"sk-estimator-id-1\" class=\"sk-toggleable__label sk-toggleable__label-arrow\">LinearRegression</label><div class=\"sk-toggleable__content\"><pre>LinearRegression()</pre></div></div></div></div></div>"
      ],
      "text/plain": [
       "LinearRegression()"
      ]
     },
     "execution_count": 6,
     "metadata": {},
     "output_type": "execute_result"
    }
   ],
   "source": [
    "# train Model r\n",
    "model = LinearRegression()\n",
    "model.fit(x_train,Y_train)"
   ]
  },
  {
   "cell_type": "code",
   "execution_count": 7,
   "id": "fa5e980a",
   "metadata": {},
   "outputs": [
    {
     "name": "stdout",
     "output_type": "stream",
     "text": [
      "[60.32140487 74.37664548 53.6110136  45.0675196  53.70280298 61.40200926\n",
      " 61.44902334 53.67817656 56.06282724 45.09214602 74.30948252 67.77488846\n",
      " 55.95312773 90.70827092 81.60623252 81.55921844 45.11453367 60.43110438\n",
      " 47.8088279  90.61648154 90.66125685 67.95846722 55.92626255 45.02274429\n",
      " 67.82414129 66.48699146 90.6836445  90.59409389 61.3348463  81.42713128\n",
      " 90.573945  ]\n",
      "78     58\n",
      "30     74\n",
      "57     58\n",
      "24     45\n",
      "16     58\n",
      "23     58\n",
      "2      58\n",
      "27     58\n",
      "28     53\n",
      "13     45\n",
      "60     74\n",
      "93     69\n",
      "77     53\n",
      "14     85\n",
      "0      85\n",
      "21     85\n",
      "3      45\n",
      "29     58\n",
      "100    57\n",
      "55     85\n",
      "35     85\n",
      "11     69\n",
      "89     53\n",
      "44     45\n",
      "71     69\n",
      "5      69\n",
      "25     85\n",
      "65     85\n",
      "53     58\n",
      "80     85\n",
      "74     85\n",
      "Name: Final Sem, dtype: int64\n"
     ]
    }
   ],
   "source": [
    "Y_pred = model.predict(x_test)\n",
    "print(Y_pred)\n",
    "print(Y_test)"
   ]
  },
  {
   "cell_type": "code",
   "execution_count": 8,
   "id": "b31a87d1",
   "metadata": {},
   "outputs": [
    {
     "name": "stdout",
     "output_type": "stream",
     "text": [
      "Mean squared Error: 14.546939452140185\n",
      "3.137531557017446\n",
      "R Squared: 0.9281542167485187\n"
     ]
    }
   ],
   "source": [
    "mse = mean_squared_error(Y_test,Y_pred)\n",
    "print(\"Mean squared Error:\",mse)\n",
    "mae = mean_absolute_error(Y_test,Y_pred)\n",
    "print(mae)\n",
    "r2 = r2_score(Y_test,Y_pred)\n",
    "print(\"R Squared:\",r2)"
   ]
  },
  {
   "cell_type": "code",
   "execution_count": 13,
   "id": "deb02b55",
   "metadata": {},
   "outputs": [
    {
     "data": {
      "image/png": "[encoded data removed]",
      "text/plain": [
       "<Figure size 640x480 with 1 Axes>"
      ]
     },
     "metadata": {},
     "output_type": "display_data"
    }
   ],
   "source": [
    "plt.scatter(Y_test,Y_pred)\n",
    "plt.xlabel(\"Actual Price\")\n",
    "plt.ylabel(\"Prediction Marks\")\n",
    "plt.title(\"Actual vs Predict Price\")\n",
    "plt.show()"
   ]
  }
 ],
 "metadata": {
  "kernelspec": {
   "display_name": "Python 3 (ipykernel)",
   "language": "python",
   "name": "python3"
  },
  "language_info": {
   "codemirror_mode": {
    "name": "ipython",
    "version": 3
   },
   "file_extension": ".py",
   "mimetype": "text/x-python",
   "name": "python",
   "nbconvert_exporter": "python",
   "pygments_lexer": "ipython3",
   "version": "3.11.5"
  }
 },
 "nbformat": 4,
 "nbformat_minor": 5
}
